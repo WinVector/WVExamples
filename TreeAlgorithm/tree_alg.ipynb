{
 "cells": [
  {
   "cell_type": "markdown",
   "id": "4ab9e94f",
   "metadata": {},
   "source": [
    "# Working Through A Trivial Algorithm Whose Analysis Isn't\n",
    "\n",
    "## Introduction\n",
    "\n",
    "I have long been fascinated with the methods used in the 1978 paper by Arne Jonassen and Donald Knuth, [\"A Trivial Algorithm Whose Analysis Isn't\"](https://doi.org/10.1016/0022-0000(78)90020-X)[JonassenKnuth78]. The paper takes the *seemingly* simple situation of analyzing a 2 to 3 node search tree. The paper is an example of a \"physics\" approach to computer science: replace the process being studied by a system of equations, and then analyze invariants of those equations instead of analyzing the original process.\n",
    "\n",
    "The paper contains a lot of results, and can be difficult approach. So I would like to share my reader's notes and a few highlights here.\n",
    " "
   ]
  },
  {
   "cell_type": "markdown",
   "id": "c09af6a4",
   "metadata": {},
   "source": [
    "## The set up\n",
    "\n",
    "The paper studies the search trees given in the figure below. \n",
    "\n",
    "<img src=\"trees_1.png\">\n",
    "\n",
    "The entire description of a tree is the tree-letter (\"A\", ..., \"G\") and the distinct real numbers (in the range [0, 1]) instantiating the nodes x, y (and sometimes z). For a proper description and a few examples I refer the reader to the original paper.\n",
    "\n",
    "The process we want to study is the the following. We start with an empty tree and insert 3 new keys (independently chosen uniformly at random from the range <code>[0, 1]</code>). We are then interested in the joint distribution of search tree shape and node key values as we alternate deleting one node uniformly at random (moving from a size 3 tree to a size 2 tree) and inserting a new key (chosen uniformly at random from the range <code>[0, 1]</code>).\n",
    "\n",
    "Let <code>F<sub>k</sub>, G<sub>k</sub></code> denote the probability of observing a shape <code>F</code> or shape <code>G</code> tree after the k'th deletion. Let <code>A<sub>k</sub>, ..., E<sub>k</sub></code> denote the probability of observing a tree of the given shape after the <code>k</code>th key insertion.\n",
    "\n",
    "The original goal was to show that the probability of seeing tree <code>C</code> after `k` insertions (<code>C<sub>k</sub></code>) isn't shrunk by deletions. That was meant to strengthen an earlier theorem establishing <code>1/3 = C<sub>1</sub> = C<sub>2</sub></code>. As the <code>C</code> shape is the nicest of the 3 node search trees, this was considered a positive thing to establish. The claimed \"paradox\" was the violation of intuition when it turned out <code>C<sub>3</sub> != 1/3</code>.\n",
    "\n",
    "\n",
    "Note: one *could* just run the algorithm a very long time for a great number of repetitions. We demonstrate this in an appendix. But that would yield a merely empirical result. The bulk of this note is going to be repeating some of the deterministic calculations using current tools."
   ]
  },
  {
   "cell_type": "markdown",
   "id": "a656ec82",
   "metadata": {},
   "source": [
    "\n",
    "The essential difficulties of the paper are driven by a number of points:\n",
    "\n",
    "  * We are analyzing an odd number of trees (`A` through `G`), so some things do not split up evenly.\n",
    "  * Hibbard's deletion rule is asymmetric in when `F` or `G` trees are produced.\n",
    "  * The state space is enormous, as it contains real number key values.\n",
    "\n",
    "The final point turns out to be enough to sink simple methods. From the paper:\n",
    "\n",
    "<blockquote>\n",
    "From the form of the answer we shall derive, it will be clear that the problem itself is <em>intrinsically difficult</em>- no really simple derivation would be able to produce such a complicated answer, and the answer is right!\n",
    "</blockquote>\n",
    "\n",
    "I believe the suggestion is meant to be:\n",
    "\n",
    "  * Any sort of finite Markov chain analysis is going to produce steady state probabilities that are rational numbers.\n",
    "  * Equation 6.9 of the paper shows the steady state probabilities are given by rapidly converging sums, similar to those used to prove irrationality of other numbers.\n",
    "\n",
    "I.e.: it is plausible that *none* of the common analysis methods *can even write down the answer*!\n",
    "\n",
    "However, the irrationality is *not* explicitly claimed and not proven.\n",
    "\n",
    "Let's work through some of the ideas!"
   ]
  },
  {
   "cell_type": "markdown",
   "id": "4dfad33d",
   "metadata": {},
   "source": [
    "## Preparation\n",
    "\n",
    "To prepare we set up our Python environment, import `sympy`, and define some utility functions."
   ]
  },
  {
   "cell_type": "code",
   "execution_count": 1,
   "id": "3bc03ea7",
   "metadata": {},
   "outputs": [],
   "source": [
    "# import packages and functions\n",
    "import functools\n",
    "import numpy as np\n",
    "import pandas as pd\n",
    "import sympy as sp\n",
    "from mpmath import findpoly, mp\n",
    "from tree_fns import (\n",
    "    convert_coefs_to_float,\n",
    "    delete_node,\n",
    "    initial_state,\n",
    "    insert_node,\n",
    "    keep_low_degree_terms,\n",
    "    make_discrete_matrices,\n",
    "    safe_subs,\n",
    "    solve_for_F,\n",
    ")\n",
    "\n",
    "rng = np.random.default_rng(2025)"
   ]
  },
  {
   "cell_type": "markdown",
   "id": "cb7a3189",
   "metadata": {},
   "source": [
    "For simplicity, let's study tree shape <code>F</code>, instead of tree shape <code>C</code>. Define the density function <code>f<sub>k</sub>(x, y)</code> as the probability density of seeing tree `F` with node values `0 <= x < y <= 1` after the `k`th deletion step. We will also use `F` to denote the limiting probability of observing the `F` tree shape.\n",
    "\n",
    "Recurrence 3.2 generates <code>f<sub>k</sub>(x, y)</code> and can be translated into Python as follows."
   ]
  },
  {
   "cell_type": "code",
   "execution_count": 2,
   "id": "484a49ed",
   "metadata": {},
   "outputs": [],
   "source": [
    "# implement recurrence 3.2 from the paper\n",
    "\n",
    "\n",
    "def transform_f_k(f_prev):\n",
    "    \"\"\"Transform f_k(x, y) to f_{k+1}(x, y)\"\"\"\n",
    "    x, y, t = sp.symbols(\"x y t\")\n",
    "    return sp.expand(\n",
    "        (\n",
    "            sp.Integer(2)\n",
    "            - sp.Integer(2) * x\n",
    "            + f_prev\n",
    "            + sp.integrate(safe_subs(f_prev, x, t), (t, 0, x))\n",
    "            + sp.integrate(safe_subs(f_prev, y, t), (t, x, y))\n",
    "        )\n",
    "        / sp.Integer(3)\n",
    "    )\n",
    "\n",
    "\n",
    "@functools.cache\n",
    "def build_f_poly(k: int):\n",
    "    \"\"\"Build f_k(x, y)\"\"\"\n",
    "    if k <= 0:\n",
    "        return sp.Integer(1)\n",
    "    f_prev = build_f_poly(k - 1)\n",
    "    return transform_f_k(f_prev)"
   ]
  },
  {
   "cell_type": "markdown",
   "id": "a42268fe",
   "metadata": {},
   "source": [
    "The first few values of <code>f<sub>k</sub>(x, y)</code> are:"
   ]
  },
  {
   "cell_type": "code",
   "execution_count": 3,
   "id": "96288dac",
   "metadata": {},
   "outputs": [
    {
     "data": {
      "text/latex": [
       "$\\displaystyle 1$"
      ],
      "text/plain": [
       "1"
      ]
     },
     "execution_count": 3,
     "metadata": {},
     "output_type": "execute_result"
    }
   ],
   "source": [
    "# compute f1\n",
    "build_f_poly(0)"
   ]
  },
  {
   "cell_type": "code",
   "execution_count": 4,
   "id": "9d494375",
   "metadata": {},
   "outputs": [
    {
     "data": {
      "text/latex": [
       "$\\displaystyle - \\frac{2 x}{3} + \\frac{y}{3} + 1$"
      ],
      "text/plain": [
       "-2*x/3 + y/3 + 1"
      ]
     },
     "execution_count": 4,
     "metadata": {},
     "output_type": "execute_result"
    }
   ],
   "source": [
    "# compute f2\n",
    "build_f_poly(1)"
   ]
  },
  {
   "cell_type": "code",
   "execution_count": 5,
   "id": "94cd547d",
   "metadata": {},
   "outputs": [
    {
     "data": {
      "text/latex": [
       "$\\displaystyle \\frac{x^{2}}{18} - \\frac{x y}{9} - \\frac{8 x}{9} + \\frac{y^{2}}{18} + \\frac{4 y}{9} + 1$"
      ],
      "text/plain": [
       "x**2/18 - x*y/9 - 8*x/9 + y**2/18 + 4*y/9 + 1"
      ]
     },
     "execution_count": 5,
     "metadata": {},
     "output_type": "execute_result"
    }
   ],
   "source": [
    "# compute f3\n",
    "build_f_poly(2)"
   ]
  },
  {
   "cell_type": "markdown",
   "id": "95ff5ab1",
   "metadata": {},
   "source": [
    "Equation 2.6 of the paper states <code>F<sub>k</sub></code> is just an appropriate integral of <code>f<sub>k</sub>(x, y)</code> to eliminate the `x` and `y` variables."
   ]
  },
  {
   "cell_type": "code",
   "execution_count": 6,
   "id": "c2466328",
   "metadata": {},
   "outputs": [],
   "source": [
    "# implement equation 2.6 from the paper\n",
    "\n",
    "\n",
    "def compute_F_k(f_poly):\n",
    "    \"\"\"Equation 2.6\"\"\"\n",
    "    return sp.integrate(\n",
    "        sp.integrate(f_poly, (sp.Symbol(\"x\"), 0, sp.Symbol(\"y\"))),\n",
    "        (sp.Symbol(\"y\"), 0, 1),\n",
    "    )"
   ]
  },
  {
   "cell_type": "markdown",
   "id": "e0b92e31",
   "metadata": {},
   "source": [
    "The first few probabilities of seeing tree shape `F` are then as follows."
   ]
  },
  {
   "cell_type": "code",
   "execution_count": 7,
   "id": "d3cff726",
   "metadata": {},
   "outputs": [
    {
     "data": {
      "text/latex": [
       "$\\displaystyle \\frac{1}{2}$"
      ],
      "text/plain": [
       "1/2"
      ]
     },
     "execution_count": 7,
     "metadata": {},
     "output_type": "execute_result"
    }
   ],
   "source": [
    "compute_F_k(build_f_poly(0))"
   ]
  },
  {
   "cell_type": "code",
   "execution_count": 8,
   "id": "6c425985",
   "metadata": {},
   "outputs": [
    {
     "data": {
      "text/latex": [
       "$\\displaystyle \\frac{1}{2}$"
      ],
      "text/plain": [
       "1/2"
      ]
     },
     "execution_count": 8,
     "metadata": {},
     "output_type": "execute_result"
    }
   ],
   "source": [
    "compute_F_k(build_f_poly(1))"
   ]
  },
  {
   "cell_type": "markdown",
   "id": "c844567a",
   "metadata": {},
   "source": [
    "The above was the content of the theorems of Hibbard and later Knott. However, <code>F<sub>3</sub></code> departs from the pattern."
   ]
  },
  {
   "cell_type": "code",
   "execution_count": 9,
   "id": "6d3f0bb5",
   "metadata": {},
   "outputs": [
    {
     "data": {
      "text/latex": [
       "$\\displaystyle \\frac{109}{216}$"
      ],
      "text/plain": [
       "109/216"
      ]
     },
     "execution_count": 9,
     "metadata": {},
     "output_type": "execute_result"
    }
   ],
   "source": [
    "compute_F_k(build_f_poly(2))"
   ]
  },
  {
   "cell_type": "code",
   "execution_count": 10,
   "id": "aae550ae",
   "metadata": {},
   "outputs": [
    {
     "data": {
      "text/latex": [
       "$\\displaystyle 0.50462962962963$"
      ],
      "text/plain": [
       "0.504629629629630"
      ]
     },
     "execution_count": 10,
     "metadata": {},
     "output_type": "execute_result"
    }
   ],
   "source": [
    "compute_F_k(build_f_poly(2)).n()"
   ]
  },
  {
   "cell_type": "markdown",
   "id": "5b1f3cab",
   "metadata": {},
   "source": [
    "Here is the paradox: given the earlier proof (and confirmation) that the first two values are 1/2, why is the 3rd value not? The paper shows that the \"paradox\" was actually just an unjustified independence assumption.\n"
   ]
  },
  {
   "cell_type": "markdown",
   "id": "af5f134b",
   "metadata": {},
   "source": [
    "### Some checks\n",
    "\n",
    "\n",
    "Before going on, we confirm our code by checking it against a number of the paper's documented calculations."
   ]
  },
  {
   "cell_type": "code",
   "execution_count": 11,
   "id": "7bbf5327",
   "metadata": {},
   "outputs": [],
   "source": [
    "# check published values\n",
    "assert build_f_poly(0) == 1\n",
    "assert build_f_poly(1) == (\n",
    "    1 - sp.Symbol(\"x\") * sp.Rational(2, 3) + sp.Symbol(\"y\") / sp.Integer(3)\n",
    ")\n",
    "assert (\n",
    "    build_f_poly(2)\n",
    "    == (\n",
    "        1\n",
    "        - sp.Symbol(\"x\") * sp.Rational(8, 9)\n",
    "        + sp.Symbol(\"y\") * sp.Rational(4, 9)\n",
    "        + (sp.Symbol(\"x\") - sp.Symbol(\"y\")) ** 2 / sp.Integer(18)\n",
    "    ).expand()\n",
    ")\n",
    "assert compute_F_k(build_f_poly(0)) == sp.Rational(1, 2)\n",
    "assert compute_F_k(build_f_poly(1)) == sp.Rational(1, 2)\n",
    "assert compute_F_k(build_f_poly(2)) == sp.Rational(109, 216)\n",
    "assert compute_F_k(build_f_poly(3)) > compute_F_k(build_f_poly(2))"
   ]
  },
  {
   "cell_type": "markdown",
   "id": "6905d658",
   "metadata": {},
   "source": [
    "## The evolution of the \"see `F`\" probability\n",
    "\n",
    "As we said, we can just plug in larger k to estimate the steady state probability that our algorithm is observed in state `F` instead of state `G` for 2-node trees.\n",
    "\n",
    "For example after 10 steps the probability <code>F<sub>10</sub></code> is exactly."
   ]
  },
  {
   "cell_type": "code",
   "execution_count": 12,
   "id": "e897df68",
   "metadata": {},
   "outputs": [
    {
     "data": {
      "text/latex": [
       "$\\displaystyle 0.516089543924779$"
      ],
      "text/plain": [
       "0.516089543924779"
      ]
     },
     "execution_count": 12,
     "metadata": {},
     "output_type": "execute_result"
    }
   ],
   "source": [
    "compute_F_k(build_f_poly(10)).n()"
   ]
  },
  {
   "cell_type": "markdown",
   "id": "fd2ae656",
   "metadata": {},
   "source": [
    "This already matches Jonassen's and Knuth's published value to 3 to 4 digits (depending on rounding rules).\n",
    "\n",
    "<img src=\"f_value.png\">\n",
    "\n"
   ]
  },
  {
   "cell_type": "code",
   "execution_count": 13,
   "id": "83046edf",
   "metadata": {},
   "outputs": [],
   "source": [
    "# equation 7.14 published value\n",
    "f_inf_paper = sp.Float(\"0.51617_50470_25177_89347\")\n",
    "assert abs(f_inf_paper - compute_F_k(build_f_poly(10))).n() < 0.5e-3"
   ]
  },
  {
   "cell_type": "markdown",
   "id": "59882215",
   "metadata": {},
   "source": [
    "We want to reproduce this full result."
   ]
  },
  {
   "cell_type": "markdown",
   "id": "c0133c4a",
   "metadata": {},
   "source": [
    "## Working towards the solution\n",
    "\n",
    "If we print our first few <code>f<sub>k</sub>(x, y)</code> with floating point coefficients, it becomes easier to see:\n",
    "\n",
    "  * The lower power terms are converging to something\n",
    "  * The the high power terms have small magnitude coefficients.\n",
    "\n"
   ]
  },
  {
   "cell_type": "code",
   "execution_count": 14,
   "id": "a22994bf",
   "metadata": {},
   "outputs": [
    {
     "data": {
      "text/latex": [
       "$\\displaystyle - 0.666666666666667 x + 0.333333333333333 y + 1.0$"
      ],
      "text/plain": [
       "-0.666666666666667*x + 0.333333333333333*y + 1.0"
      ]
     },
     "execution_count": 14,
     "metadata": {},
     "output_type": "execute_result"
    }
   ],
   "source": [
    "convert_coefs_to_float(build_f_poly(1))"
   ]
  },
  {
   "cell_type": "code",
   "execution_count": 15,
   "id": "4b1c0a9e",
   "metadata": {},
   "outputs": [
    {
     "data": {
      "text/latex": [
       "$\\displaystyle 0.0555555555555556 x^{2} - 0.111111111111111 x y - 0.888888888888889 x + 0.0555555555555556 y^{2} + 0.444444444444444 y + 1.0$"
      ],
      "text/plain": [
       "0.0555555555555556*x**2 - 0.111111111111111*x*y - 0.888888888888889*x + 0.0555555555555556*y**2 + 0.444444444444444*y + 1.0"
      ]
     },
     "execution_count": 15,
     "metadata": {},
     "output_type": "execute_result"
    }
   ],
   "source": [
    "convert_coefs_to_float(build_f_poly(2))"
   ]
  },
  {
   "cell_type": "code",
   "execution_count": 16,
   "id": "2ebb2e42",
   "metadata": {},
   "outputs": [
    {
     "data": {
      "text/latex": [
       "$\\displaystyle 0.0925925925925926 x^{2} - 0.185185185185185 x y - 0.962962962962963 x + 0.00617283950617284 y^{3} + 0.0925925925925926 y^{2} + 0.481481481481481 y + 1.0$"
      ],
      "text/plain": [
       "0.0925925925925926*x**2 - 0.185185185185185*x*y - 0.962962962962963*x + 0.00617283950617284*y**3 + 0.0925925925925926*y**2 + 0.481481481481481*y + 1.0"
      ]
     },
     "execution_count": 16,
     "metadata": {},
     "output_type": "execute_result"
    }
   ],
   "source": [
    "convert_coefs_to_float(build_f_poly(3))"
   ]
  },
  {
   "cell_type": "code",
   "execution_count": 17,
   "id": "d76d7a57",
   "metadata": {},
   "outputs": [
    {
     "data": {
      "text/latex": [
       "$\\displaystyle - 0.00051440329218107 x^{4} + 0.111111111111111 x^{2} + 0.00205761316872428 x y^{3} - 0.222222222222222 x y - 0.987654320987654 x + 0.00051440329218107 y^{4} + 0.0123456790123457 y^{3} + 0.111111111111111 y^{2} + 0.493827160493827 y + 1.0$"
      ],
      "text/plain": [
       "-0.00051440329218107*x**4 + 0.111111111111111*x**2 + 0.00205761316872428*x*y**3 - 0.222222222222222*x*y - 0.987654320987654*x + 0.00051440329218107*y**4 + 0.0123456790123457*y**3 + 0.111111111111111*y**2 + 0.493827160493827*y + 1.0"
      ]
     },
     "execution_count": 17,
     "metadata": {},
     "output_type": "execute_result"
    }
   ],
   "source": [
    "convert_coefs_to_float(build_f_poly(4))"
   ]
  },
  {
   "cell_type": "markdown",
   "id": "230c3471",
   "metadata": {},
   "source": [
    "This is why the `F` estimate is converging to a value quickly.\n",
    "\n"
   ]
  },
  {
   "cell_type": "markdown",
   "id": "5941c6f4",
   "metadata": {},
   "source": [
    "## Using a fixed-point solver\n",
    "\n",
    "The paper's next idea is to solve for a fixed-point or eigen-function of the \"to the next step\" transform. The paper introduces a related recurrence in Equation 3.4. We do not need to do this as the fixed point solver also works fine with the earlier Equation 3.2 function `transform_f_k()` (in addition to working with the Equation 3.4 form). We have the freedom of leaving more of the work to the machine."
   ]
  },
  {
   "cell_type": "markdown",
   "id": "606cb860",
   "metadata": {},
   "source": [
    "We will use the `sympy` computer algebra system to symbolically solve for the low degree terms of the power series approximation of <code>f<sub>&infin;</sub>(x, y)</code> such that <code>f<sub>&infin;</sub>(x, y) ~ transform_f_k(f<sub>&infin;</sub>(x, y))</code>."
   ]
  },
  {
   "cell_type": "markdown",
   "id": "0dd4d4e9",
   "metadata": {},
   "source": [
    "### Building the fixed-point solver\n",
    "\n",
    "First let's build a list symbolic polynomial representing the lower degree terms of a two variable power series."
   ]
  },
  {
   "cell_type": "code",
   "execution_count": 18,
   "id": "dc72cddf",
   "metadata": {},
   "outputs": [],
   "source": [
    "def build_initial_free_power_series(degree_bound: int):\n",
    "    # build map of monomial powers to coefficient name\n",
    "    x, y = sp.symbols(\"x y\")\n",
    "    coef_names = {\n",
    "        (x_power, y_power): (\n",
    "            sp.Symbol(f\"c_{{x^{{{x_power}}} y^{{{y_power}}}}}\"),\n",
    "            x**x_power * y**y_power,\n",
    "        )\n",
    "        for x_power in range(degree_bound + 1)\n",
    "        for y_power in range(degree_bound + 1)\n",
    "        if x_power + y_power <= degree_bound\n",
    "    }\n",
    "    # build a general polynomial over these monomials\n",
    "    symbolic_rep = sum(\n",
    "        [coef_name * monomial_term for coef_name, monomial_term in coef_names.values()],\n",
    "        0,\n",
    "    )\n",
    "    return coef_names, symbolic_rep"
   ]
  },
  {
   "cell_type": "code",
   "execution_count": 19,
   "id": "42921ff4",
   "metadata": {},
   "outputs": [
    {
     "data": {
      "text/latex": [
       "$\\displaystyle \\operatorname{Poly}{\\left( c_{x^{2} y^{0}} x^{2} + c_{x^{1} y^{1}} xy + c_{x^{1} y^{0}} x + c_{x^{0} y^{2}} y^{2} + c_{x^{0} y^{1}} y + c_{x^{0} y^{0}}, x, y, domain=\\mathbb{Z}\\left[c_{x^{0} y^{0}}, c_{x^{0} y^{1}}, c_{x^{0} y^{2}}, c_{x^{1} y^{0}}, c_{x^{1} y^{1}}, c_{x^{2} y^{0}}\\right] \\right)}$"
      ],
      "text/plain": [
       "Poly(c_{x^{2} y^{0}}*x**2 + c_{x^{1} y^{1}}*x*y + c_{x^{1} y^{0}}*x + c_{x^{0} y^{2}}*y**2 + c_{x^{0} y^{1}}*y + c_{x^{0} y^{0}}, x, y, domain='ZZ[c_{x^{0} y^{0}},c_{x^{0} y^{1}},c_{x^{0} y^{2}},c_{x^{1} y^{0}},c_{x^{1} y^{1}},c_{x^{2} y^{0}}]')"
      ]
     },
     "execution_count": 19,
     "metadata": {},
     "output_type": "execute_result"
    }
   ],
   "source": [
    "coef_names, symbolic_rep = build_initial_free_power_series(2)\n",
    "\n",
    "symbolic_rep.as_poly(gens=sp.symbols(\"x y\"))"
   ]
  },
  {
   "cell_type": "markdown",
   "id": "50c79918",
   "metadata": {},
   "source": [
    "\n",
    "Now we run this polynomial through our transform, retaining only the degree bounded terms, and re-collecting the transformed coefficients in terms of the variables `x` and `y`."
   ]
  },
  {
   "cell_type": "code",
   "execution_count": 20,
   "id": "3d2d2869",
   "metadata": {},
   "outputs": [],
   "source": [
    "def apply_transform_and_convert(transform, *, symbolic_rep):\n",
    "    # run this polynomial through the integral transform\n",
    "    transformed_rep = transform(symbolic_rep)\n",
    "    # convert to polynomial specialized representation\n",
    "    return transformed_rep.as_poly(gens=sp.symbols(\"x y\"))"
   ]
  },
  {
   "cell_type": "code",
   "execution_count": 21,
   "id": "8d4f4901",
   "metadata": {},
   "outputs": [
    {
     "data": {
      "text/latex": [
       "$\\displaystyle \\operatorname{Poly}{\\left( \\left(- \\frac{c_{x^{0} y^{2}}}{9} - \\frac{c_{x^{1} y^{1}}}{6} - \\frac{2 c_{x^{2} y^{0}}}{9}\\right) x^{3} + \\left(\\frac{c_{x^{1} y^{1}}}{6} + \\frac{c_{x^{2} y^{0}}}{3}\\right) x^{2}y + \\left(- \\frac{c_{x^{0} y^{1}}}{6} - \\frac{c_{x^{1} y^{0}}}{6} + \\frac{c_{x^{2} y^{0}}}{3}\\right) x^{2} + \\left(\\frac{c_{x^{0} y^{2}}}{3} + \\frac{c_{x^{1} y^{1}}}{6}\\right) xy^{2} + \\left(\\frac{c_{x^{0} y^{1}}}{3} + \\frac{c_{x^{1} y^{0}}}{3} + \\frac{c_{x^{1} y^{1}}}{3}\\right) xy + \\left(\\frac{c_{x^{1} y^{0}}}{3} - \\frac{2}{3}\\right) x + \\frac{c_{x^{0} y^{2}}}{9} y^{3} + \\left(\\frac{c_{x^{0} y^{1}}}{6} + \\frac{c_{x^{0} y^{2}}}{3}\\right) y^{2} + \\left(\\frac{c_{x^{0} y^{0}}}{3} + \\frac{c_{x^{0} y^{1}}}{3}\\right) y + \\frac{c_{x^{0} y^{0}}}{3} + \\frac{2}{3}, x, y, domain=\\mathbb{Q}\\left[c_{x^{0} y^{0}}, c_{x^{0} y^{1}}, c_{x^{0} y^{2}}, c_{x^{1} y^{0}}, c_{x^{1} y^{1}}, c_{x^{2} y^{0}}\\right] \\right)}$"
      ],
      "text/plain": [
       "Poly((-c_{x^{0} y^{2}}/9 - c_{x^{1} y^{1}}/6 - 2*c_{x^{2} y^{0}}/9)*x**3 + (c_{x^{1} y^{1}}/6 + c_{x^{2} y^{0}}/3)*x**2*y + (-c_{x^{0} y^{1}}/6 - c_{x^{1} y^{0}}/6 + c_{x^{2} y^{0}}/3)*x**2 + (c_{x^{0} y^{2}}/3 + c_{x^{1} y^{1}}/6)*x*y**2 + (c_{x^{0} y^{1}}/3 + c_{x^{1} y^{0}}/3 + c_{x^{1} y^{1}}/3)*x*y + (c_{x^{1} y^{0}}/3 - 2/3)*x + c_{x^{0} y^{2}}/9*y**3 + (c_{x^{0} y^{1}}/6 + c_{x^{0} y^{2}}/3)*y**2 + (c_{x^{0} y^{0}}/3 + c_{x^{0} y^{1}}/3)*y + c_{x^{0} y^{0}}/3 + 2/3, x, y, domain='QQ[c_{x^{0} y^{0}},c_{x^{0} y^{1}},c_{x^{0} y^{2}},c_{x^{1} y^{0}},c_{x^{1} y^{1}},c_{x^{2} y^{0}}]')"
      ]
     },
     "execution_count": 21,
     "metadata": {},
     "output_type": "execute_result"
    }
   ],
   "source": [
    "transformed_rep = apply_transform_and_convert(transform_f_k, symbolic_rep=symbolic_rep)\n",
    "\n",
    "transformed_rep"
   ]
  },
  {
   "cell_type": "markdown",
   "id": "1e488653",
   "metadata": {},
   "source": [
    "We restrict ourselves to only the original terms (dropping the new higher degree terms) and re-write the simultaneous equations as a table. In this table we solve for coefficients such that the first column equals the second column."
   ]
  },
  {
   "cell_type": "code",
   "execution_count": 22,
   "id": "4264bd8a",
   "metadata": {},
   "outputs": [
    {
     "data": {
      "text/latex": [
       "$\\displaystyle \\left[\\begin{matrix}c_{x^{2} y^{0}} & - \\frac{c_{x^{0} y^{1}}}{6} - \\frac{c_{x^{1} y^{0}}}{6} + \\frac{c_{x^{2} y^{0}}}{3}\\\\c_{x^{1} y^{1}} & \\frac{c_{x^{0} y^{1}}}{3} + \\frac{c_{x^{1} y^{0}}}{3} + \\frac{c_{x^{1} y^{1}}}{3}\\\\c_{x^{1} y^{0}} & \\frac{c_{x^{1} y^{0}}}{3} - \\frac{2}{3}\\\\c_{x^{0} y^{2}} & \\frac{c_{x^{0} y^{1}}}{6} + \\frac{c_{x^{0} y^{2}}}{3}\\\\c_{x^{0} y^{1}} & \\frac{c_{x^{0} y^{0}}}{3} + \\frac{c_{x^{0} y^{1}}}{3}\\\\c_{x^{0} y^{0}} & \\frac{c_{x^{0} y^{0}}}{3} + \\frac{2}{3}\\end{matrix}\\right]$"
      ],
      "text/plain": [
       "Matrix([\n",
       "[c_{x^{2} y^{0}}, -c_{x^{0} y^{1}}/6 - c_{x^{1} y^{0}}/6 + c_{x^{2} y^{0}}/3],\n",
       "[c_{x^{1} y^{1}},  c_{x^{0} y^{1}}/3 + c_{x^{1} y^{0}}/3 + c_{x^{1} y^{1}}/3],\n",
       "[c_{x^{1} y^{0}},                                    c_{x^{1} y^{0}}/3 - 2/3],\n",
       "[c_{x^{0} y^{2}},                      c_{x^{0} y^{1}}/6 + c_{x^{0} y^{2}}/3],\n",
       "[c_{x^{0} y^{1}},                      c_{x^{0} y^{0}}/3 + c_{x^{0} y^{1}}/3],\n",
       "[c_{x^{0} y^{0}},                                    c_{x^{0} y^{0}}/3 + 2/3]])"
      ]
     },
     "execution_count": 22,
     "metadata": {},
     "output_type": "execute_result"
    }
   ],
   "source": [
    "eqns = {\n",
    "    coef_names[monom][0]: coef\n",
    "    for monom, coef in zip(transformed_rep.monoms(), transformed_rep.coeffs())\n",
    "    if monom in coef_names\n",
    "}\n",
    "\n",
    "sp.Matrix([(k, v) for k, v in eqns.items()])"
   ]
  },
  {
   "cell_type": "markdown",
   "id": "2c383d54",
   "metadata": {},
   "source": [
    "This is in a good form to solve as a linear system over the symbols."
   ]
  },
  {
   "cell_type": "code",
   "execution_count": 23,
   "id": "ca5fd5a1",
   "metadata": {},
   "outputs": [
    {
     "data": {
      "text/latex": [
       "$\\displaystyle \\left[\\begin{matrix}c_{x^{0} y^{0}} & 1\\\\c_{x^{0} y^{1}} & \\frac{1}{2}\\\\c_{x^{0} y^{2}} & \\frac{1}{8}\\\\c_{x^{1} y^{0}} & -1\\\\c_{x^{1} y^{1}} & - \\frac{1}{4}\\\\c_{x^{2} y^{0}} & \\frac{1}{8}\\end{matrix}\\right]$"
      ],
      "text/plain": [
       "Matrix([\n",
       "[c_{x^{0} y^{0}},    1],\n",
       "[c_{x^{0} y^{1}},  1/2],\n",
       "[c_{x^{0} y^{2}},  1/8],\n",
       "[c_{x^{1} y^{0}},   -1],\n",
       "[c_{x^{1} y^{1}}, -1/4],\n",
       "[c_{x^{2} y^{0}},  1/8]])"
      ]
     },
     "execution_count": 23,
     "metadata": {},
     "output_type": "execute_result"
    }
   ],
   "source": [
    "coef_values = sp.solve(\n",
    "    [derived_coef - original_coef for original_coef, derived_coef in eqns.items()]\n",
    ")\n",
    "\n",
    "sp.Matrix([(k, v) for k, v in coef_values.items()])"
   ]
  },
  {
   "cell_type": "markdown",
   "id": "22b36d7e",
   "metadata": {},
   "source": [
    "We now have the coefficients for the low degree approximation of the fixed point of the transform! It is then just a matter of assembling the solution back into a polynomial. We collect all the steps here."
   ]
  },
  {
   "cell_type": "code",
   "execution_count": 24,
   "id": "77f3efd6",
   "metadata": {},
   "outputs": [],
   "source": [
    "def solve_for_initial_invariant(degree_bound: int, *, transform):\n",
    "    # build symbolic representation of low degree terms of power series\n",
    "    coef_names, symbolic_rep = build_initial_free_power_series(degree_bound)\n",
    "    # run this polynomial through the integral transform\n",
    "    transformed_rep = apply_transform_and_convert(transform, symbolic_rep=symbolic_rep)\n",
    "    # equate new coefficients to original symbols and solve the system\n",
    "    coef_values = sp.solve(\n",
    "        [\n",
    "            coef_names[monom][0] - new_expression\n",
    "            for monom, new_expression in zip(\n",
    "                transformed_rep.monoms(), transformed_rep.coeffs()\n",
    "            )\n",
    "            if monom in coef_names\n",
    "        ]\n",
    "    )\n",
    "    # re-assemble result into initial invariant polynomial\n",
    "    return sum(\n",
    "        [\n",
    "            coef_values[coef_name] * coef_term\n",
    "            for coef_name, coef_term in coef_names.values()\n",
    "        ],\n",
    "        0,\n",
    "    )"
   ]
  },
  {
   "cell_type": "markdown",
   "id": "a226bb46",
   "metadata": {},
   "source": [
    "### Applying the fixed-point method\n",
    "\n",
    "Let's apply the entire procedure to read off the low degree approximation of the transform fixed point."
   ]
  },
  {
   "cell_type": "code",
   "execution_count": 25,
   "id": "c2f91198",
   "metadata": {},
   "outputs": [
    {
     "data": {
      "text/latex": [
       "$\\displaystyle \\frac{x^{2}}{8} - \\frac{x y}{4} - x + \\frac{y^{2}}{8} + \\frac{y}{2} + 1$"
      ],
      "text/plain": [
       "x**2/8 - x*y/4 - x + y**2/8 + y/2 + 1"
      ]
     },
     "execution_count": 25,
     "metadata": {},
     "output_type": "execute_result"
    }
   ],
   "source": [
    "initial_invariant_2 = solve_for_initial_invariant(\n",
    "    degree_bound=2, transform=transform_f_k\n",
    ")\n",
    "\n",
    "initial_invariant_2"
   ]
  },
  {
   "cell_type": "markdown",
   "id": "e4d0fe0f",
   "metadata": {},
   "source": [
    "We show the difference between `initial_invariant_2` and `transform_f_k(initial_invariant_2)` is only terms of degree greater than 2."
   ]
  },
  {
   "cell_type": "code",
   "execution_count": 26,
   "id": "b28c74ca",
   "metadata": {},
   "outputs": [
    {
     "data": {
      "text/latex": [
       "$\\displaystyle \\frac{y^{3}}{72}$"
      ],
      "text/plain": [
       "y**3/72"
      ]
     },
     "execution_count": 26,
     "metadata": {},
     "output_type": "execute_result"
    }
   ],
   "source": [
    "transform_f_k(initial_invariant_2) - initial_invariant_2"
   ]
  },
  {
   "cell_type": "code",
   "execution_count": 27,
   "id": "800dff5c",
   "metadata": {},
   "outputs": [],
   "source": [
    "assert (\n",
    "    keep_low_degree_terms(\n",
    "        transform_f_k(initial_invariant_2) - initial_invariant_2, degree_bound=2\n",
    "    )\n",
    "    == 0\n",
    ")"
   ]
  },
  {
   "cell_type": "markdown",
   "id": "9ddcf640",
   "metadata": {},
   "source": [
    "This very low degree approximation doesn't give us more than 2 digits of the correct answer."
   ]
  },
  {
   "cell_type": "code",
   "execution_count": 28,
   "id": "5d2d8696",
   "metadata": {},
   "outputs": [
    {
     "data": {
      "text/latex": [
       "$\\displaystyle 0.510416666666667$"
      ],
      "text/plain": [
       "0.510416666666667"
      ]
     },
     "execution_count": 28,
     "metadata": {},
     "output_type": "execute_result"
    }
   ],
   "source": [
    "compute_F_k(initial_invariant_2).n()"
   ]
  },
  {
   "cell_type": "code",
   "execution_count": 29,
   "id": "d5caac14",
   "metadata": {},
   "outputs": [],
   "source": [
    "assert abs(compute_F_k(initial_invariant_2) - f_inf_paper) < 1e-2"
   ]
  },
  {
   "cell_type": "markdown",
   "id": "595c2c87",
   "metadata": {},
   "source": [
    "Using a degree 30 bound gives us as least as many digits as in the original paper (subject to the usual rounding rules)."
   ]
  },
  {
   "cell_type": "code",
   "execution_count": 30,
   "id": "06177da3",
   "metadata": {},
   "outputs": [
    {
     "data": {
      "text/latex": [
       "$\\displaystyle \\frac{20833900370755957319187311387714780525504731}{40362083542832951162678241911761797120000000}$"
      ],
      "text/plain": [
       "20833900370755957319187311387714780525504731/40362083542832951162678241911761797120000000"
      ]
     },
     "execution_count": 30,
     "metadata": {},
     "output_type": "execute_result"
    }
   ],
   "source": [
    "f_n_estimate = compute_F_k(solve_for_initial_invariant(30, transform=transform_f_k))\n",
    "\n",
    "f_n_estimate"
   ]
  },
  {
   "cell_type": "code",
   "execution_count": 31,
   "id": "67b47d02",
   "metadata": {},
   "outputs": [
    {
     "data": {
      "text/latex": [
       "$\\displaystyle 0.5161750470251778934693677$"
      ],
      "text/plain": [
       "0.5161750470251778934693677"
      ]
     },
     "execution_count": 31,
     "metadata": {},
     "output_type": "execute_result"
    }
   ],
   "source": [
    "f_n_estimate.n(25)"
   ]
  },
  {
   "cell_type": "code",
   "execution_count": 32,
   "id": "a36a2607",
   "metadata": {},
   "outputs": [],
   "source": [
    "# confirm exact close to equation 7.14 published value\n",
    "assert abs(f_n_estimate - f_inf_paper).n() < 0.5e-20"
   ]
  },
  {
   "cell_type": "markdown",
   "id": "308a0cdb",
   "metadata": {},
   "source": [
    "## The exact solution\n",
    "\n",
    "Jonassen and Knuth found that they could solve the recurrence symbolically, and write the solution in terms of the similarly structured \"[modified Bessel functions](https://en.wikipedia.org/wiki/Bessel_function#Modified_Bessel_functions).\" This let them write down the exact limiting probability of seeing `F` (instead of `G`) at a given moment as the following."
   ]
  },
  {
   "cell_type": "code",
   "execution_count": 33,
   "id": "844eb47a",
   "metadata": {},
   "outputs": [
    {
     "data": {
      "text/latex": [
       "$\\displaystyle - 2 e I_{1}\\left(1\\right) - 1 + \\frac{4 e I_{0}\\left(1\\right)}{3}$"
      ],
      "text/plain": [
       "-2*E*besseli(1, 1) - 1 + 4*E*besseli(0, 1)/3"
      ]
     },
     "execution_count": 33,
     "metadata": {},
     "output_type": "execute_result"
    }
   ],
   "source": [
    "# result 7.12\n",
    "I0 = sp.besseli(sp.Integer(0), sp.Integer(1))\n",
    "I1 = sp.besseli(sp.Integer(1), sp.Integer(1))\n",
    "f_exact = (\n",
    "    sp.Rational(4, 3) * sp.exp(sp.Integer(1)) * I0\n",
    "    - sp.Integer(2) * sp.exp(sp.Integer(1)) * I1\n",
    "    - sp.Integer(1)\n",
    ")\n",
    "\n",
    "f_exact"
   ]
  },
  {
   "cell_type": "markdown",
   "id": "d567aa80",
   "metadata": {},
   "source": [
    "The modified Bessel functions were probably one of the places they used [MACSYMA](https://en.wikipedia.org/wiki/Macsyma)."
   ]
  },
  {
   "cell_type": "markdown",
   "id": "be298743",
   "metadata": {},
   "source": [
    "Let's concede, the authors didn't expect all readers to move through all the steps.\n",
    "\n",
    "<img src=\" coefficientologist.png\">\n",
    "\n",
    "The quality of their result proves the methodology."
   ]
  },
  {
   "cell_type": "code",
   "execution_count": 34,
   "id": "3bcc3575",
   "metadata": {},
   "outputs": [
    {
     "data": {
      "text/latex": [
       "$\\displaystyle 0.51617504702517789346936764901499385774157016076124$"
      ],
      "text/plain": [
       "0.51617504702517789346936764901499385774157016076124"
      ]
     },
     "execution_count": 34,
     "metadata": {},
     "output_type": "execute_result"
    }
   ],
   "source": [
    "f_exact.n(50)"
   ]
  },
  {
   "cell_type": "markdown",
   "id": "d66e9dff",
   "metadata": {},
   "source": [
    "And the estimate does in fact match this to a great number of digits."
   ]
  },
  {
   "cell_type": "code",
   "execution_count": 35,
   "id": "21e73606",
   "metadata": {},
   "outputs": [],
   "source": [
    "# confirm estimate close to symbolic solution\n",
    "assert abs(f_n_estimate - f_exact).n() < 0.5e-28\n",
    "# confirm exact close to equation 7.14 published value\n",
    "assert abs(f_inf_paper - f_exact).n() < 0.5e-20"
   ]
  },
  {
   "cell_type": "markdown",
   "id": "d1390800",
   "metadata": {},
   "source": [
    "## Conclusion\n",
    "\n",
    "The Jonassen and Knuth paper remains a virtuoso demonstration of combinatorics and calculation. The functional analysis application of fixed point methods is very powerful, and in a sense natural (despite the difficulty of the entailed later steps).\n",
    "\n",
    "We automated a repeat of some of the calculations by settling for an approximation. The newer tools of [Marko Petkovsek, Herbert Wilf and Doron Zeilberger, *A=B*, A K Peters/CRC Press, 1996](https://www2.math.upenn.edu/~wilf/AeqB.html) and \n",
    "[Philippe Flajolet, Robert Sedgewick, *Analytic Combinatorics*, Cambridge, 2009](https://www.cambridge.org/core/books/analytic-combinatorics/7E37474C43E9B95C90BEDE082CF28708) likely make a mechanical reproduction of the combinatorial steps of the paper also achievable."
   ]
  },
  {
   "cell_type": "markdown",
   "id": "a2fbfb1f",
   "metadata": {},
   "source": [
    "## Appendices"
   ]
  },
  {
   "cell_type": "markdown",
   "id": "0154be06",
   "metadata": {},
   "source": [
    "### Appendix: trying the obvious simulation solution\n",
    "\n",
    "We can quickly implement the obvious simulate and collect empirical averages solution.\n",
    "\n",
    "The code looks like the following."
   ]
  },
  {
   "cell_type": "code",
   "execution_count": 36,
   "id": "5de46e9e",
   "metadata": {},
   "outputs": [
    {
     "name": "stdout",
     "output_type": "stream",
     "text": [
      "('G', 0.3820097409171477, 0.9944578051677608)\n",
      "('D', 0.3820097409171477, 0.8372552761899896, 0.9944578051677608)\n",
      "('G', 0.3820097409171477, 0.8372552761899896)\n",
      "('E', 0.3820097409171477, 0.8372552761899896, 0.975809010156957)\n",
      "('G', 0.3820097409171477, 0.975809010156957)\n"
     ]
    }
   ],
   "source": [
    "state = initial_state(rng=rng)\n",
    "print(state)\n",
    "state = insert_node(state, rng=rng)\n",
    "print(state)\n",
    "state = delete_node(state, rng=rng)\n",
    "print(state)\n",
    "state = insert_node(state, rng=rng)\n",
    "print(state)\n",
    "state = delete_node(state, rng=rng)\n",
    "print(state)"
   ]
  },
  {
   "cell_type": "markdown",
   "id": "b149f8f3",
   "metadata": {},
   "source": [
    "Estimating probability `F` is then just a matter of running the sequence enough times and long enough."
   ]
  },
  {
   "cell_type": "code",
   "execution_count": 37,
   "id": "cd08a73c",
   "metadata": {},
   "outputs": [],
   "source": [
    "def run_simulation(\n",
    "    *, rng, n_repetitions: int = 100, n_warmup: int = 10000, n_steps: int = 10000\n",
    "):\n",
    "    n_F = 0\n",
    "    n_G = 0\n",
    "    for rep in range(n_repetitions):\n",
    "        state = initial_state(rng=rng)\n",
    "        # warm up\n",
    "        for rep in range(n_warmup):\n",
    "            state = insert_node(state, rng=rng)\n",
    "            state = delete_node(state, rng=rng)\n",
    "        # get stats\n",
    "        for rep in range(n_steps):\n",
    "            state = insert_node(state, rng=rng)\n",
    "            state = delete_node(state, rng=rng)\n",
    "            if state[0] == \"F\":\n",
    "                n_F += 1\n",
    "            else:\n",
    "                n_G += 1\n",
    "    return n_F / (n_F + n_G)"
   ]
  },
  {
   "cell_type": "code",
   "execution_count": 38,
   "id": "a1c5e9b5",
   "metadata": {},
   "outputs": [
    {
     "data": {
      "text/plain": [
       "0.51727"
      ]
     },
     "execution_count": 38,
     "metadata": {},
     "output_type": "execute_result"
    }
   ],
   "source": [
    "run_simulation(rng=rng)"
   ]
  },
  {
   "cell_type": "markdown",
   "id": "da5dbb82",
   "metadata": {},
   "source": [
    "This doesn't give us a lot of digits of the correct answer, and very little insight. Also the returned result itself is subject to sampling error (which can be decreased by using longer runs)."
   ]
  },
  {
   "cell_type": "code",
   "execution_count": 39,
   "id": "074e022e",
   "metadata": {},
   "outputs": [
    {
     "data": {
      "text/plain": [
       "0.517413"
      ]
     },
     "execution_count": 39,
     "metadata": {},
     "output_type": "execute_result"
    }
   ],
   "source": [
    "run_simulation(rng=rng)"
   ]
  },
  {
   "cell_type": "markdown",
   "id": "bd55cabd",
   "metadata": {},
   "source": [
    "### Appendix: It isn't obvious `F` is irrational\n",
    "\n"
   ]
  },
  {
   "cell_type": "markdown",
   "id": "5a515bd8",
   "metadata": {},
   "source": [
    "#### Why `F` seems irrational\n",
    "\n",
    "As hinted in the paper, there isn't an obvious *small* algebraic expression for the probability `F`. For instance, `mpmath.findpoly()` fails to find a low degree polynomial with small magnitude integer coefficients with `F` as a root."
   ]
  },
  {
   "cell_type": "code",
   "execution_count": 40,
   "id": "e25522c6",
   "metadata": {},
   "outputs": [
    {
     "name": "stdout",
     "output_type": "stream",
     "text": [
      "[-1, 0, 2]\n"
     ]
    }
   ],
   "source": [
    "# finding -X**2 + 2 == 0 for sqrt(2) as an example\n",
    "mp.dps = 100  # Set precision\n",
    "sqrt_2_relation = findpoly(sp.sqrt(2).n(200), n=8, maxcoeff=10**6, maxsteps=100000)\n",
    "assert sqrt_2_relation is not None  # something found\n",
    "print(sqrt_2_relation)"
   ]
  },
  {
   "cell_type": "code",
   "execution_count": 41,
   "id": "03d91e1a",
   "metadata": {},
   "outputs": [
    {
     "name": "stdout",
     "output_type": "stream",
     "text": [
      "None\n"
     ]
    }
   ],
   "source": [
    "# failing to find a small minimal polynomial for F\n",
    "mp.dps = 100  # Set precision\n",
    "F_reln = findpoly(f_exact.n(200), n=8, maxcoeff=10**6, maxsteps=100000)\n",
    "assert F_reln is None  # nothing found\n",
    "print(F_reln)"
   ]
  },
  {
   "cell_type": "markdown",
   "id": "6c83f322",
   "metadata": {},
   "source": [
    "Though this is not the same as actually proving irrationality of the value."
   ]
  },
  {
   "cell_type": "markdown",
   "id": "8a58eee3",
   "metadata": {},
   "source": [
    "Equation 6.9 shows:\n",
    "\n",
    "$$\n",
    "F = \\sum_{k = 0}^{\\infty} \\frac{1}{2^{k} (k + 2)!} \\left( \\binom{2 k  - 2}{k} - \\binom{2 k - 2}{k - 4} \\right)\n",
    "$$\n",
    "\n",
    "(using the convention that $\\binom{a}{b}$ is $0$ for $a <= 0$ or $b < 0$).\n",
    "\n",
    "Our guess is the authors intended to exploit the rapid convergence of Equation 6.9 to prove the irrationality of `F`."
   ]
  },
  {
   "cell_type": "markdown",
   "id": "872941fe",
   "metadata": {},
   "source": [
    "Let's take a look at partial sums <code>F<sub>n</sub>()</code> of `F`."
   ]
  },
  {
   "cell_type": "code",
   "execution_count": 42,
   "id": "26f9092b",
   "metadata": {},
   "outputs": [],
   "source": [
    "@functools.cache\n",
    "def F_n(n: int):\n",
    "    if n < 0:\n",
    "        return 0\n",
    "    F_n_1 = F_n(n - 1)\n",
    "    n = sp.Integer(n)\n",
    "    return F_n_1 + (\n",
    "        (1 / (sp.Integer(2) ** n * sp.factorial(n + 2)))\n",
    "        * (sp.binomial(2 * n - 2, n) - sp.binomial(2 * n - 2, n - 4))\n",
    "    )"
   ]
  },
  {
   "cell_type": "code",
   "execution_count": 43,
   "id": "63541b22",
   "metadata": {},
   "outputs": [
    {
     "data": {
      "text/plain": [
       "[0.0161750470251779,\n",
       " 0.0161750470251779,\n",
       " 0.00575838035851123,\n",
       " 0.00159171369184456,\n",
       " 0.000376435914066782,\n",
       " 7.88168664477347e-5,\n",
       " 1.48752741858300e-5,\n",
       " 2.56059715761128e-6,\n",
       " 4.05528677673011e-7,\n",
       " 5.94964305990971e-8]"
      ]
     },
     "execution_count": 43,
     "metadata": {},
     "output_type": "execute_result"
    }
   ],
   "source": [
    "# show error is shrinking fast\n",
    "F_errors = [(f_exact - F_n(n)).n() for n in range(10)]\n",
    "\n",
    "F_errors"
   ]
  },
  {
   "cell_type": "markdown",
   "id": "ddf0299a",
   "metadata": {},
   "source": [
    "These appear to get quite small quickly. "
   ]
  },
  {
   "cell_type": "markdown",
   "id": "bfac0bd5",
   "metadata": {},
   "source": [
    "#### Showing `e` is irrational (a warm up)\n",
    "\n",
    "To explain the method, here is how once shows that `e` is irrational. Define\n",
    "\n",
    "$$\n",
    "e_{n} = \\sum_{k = 0}^{n} 1/(k!)\n",
    "$$\n",
    "\n",
    "Find integers <code>z<sub>k</sub></code> such that:\n",
    "\n",
    "  * $z_{n} e_{n}$ is integral\n",
    "  * $z_{n} (e - e_{n})$ goes to zero.\n",
    "\n",
    "For example, one can prove $z_{n} = n!$ works. We just show a few example values."
   ]
  },
  {
   "cell_type": "code",
   "execution_count": 44,
   "id": "ffbbd217",
   "metadata": {},
   "outputs": [],
   "source": [
    "@functools.cache\n",
    "def e_n(n: int):\n",
    "    if n < 0:\n",
    "        return 0\n",
    "    return e_n(n - 1) + 1 / sp.factorial(sp.Integer(n))"
   ]
  },
  {
   "cell_type": "code",
   "execution_count": 45,
   "id": "290362da",
   "metadata": {},
   "outputs": [
    {
     "data": {
      "text/plain": [
       "[1, 2, 5, 16, 65, 326, 1957, 13700, 109601, 986410]"
      ]
     },
     "execution_count": 45,
     "metadata": {},
     "output_type": "execute_result"
    }
   ],
   "source": [
    "# show partial sums are integers\n",
    "[sp.factorial(sp.Integer(n)) * e_n(n) for n in range(10)]"
   ]
  },
  {
   "cell_type": "code",
   "execution_count": 46,
   "id": "23eeac2e",
   "metadata": {},
   "outputs": [
    {
     "data": {
      "text/plain": [
       "[1.71828182845905,\n",
       " 0.718281828459045,\n",
       " 0.436563656918090,\n",
       " 0.309690970754271,\n",
       " 0.238763883017086,\n",
       " 0.193819415085428,\n",
       " 0.162916490512569,\n",
       " 0.140415433587986,\n",
       " 0.123323468703890,\n",
       " 0.109911218335008]"
      ]
     },
     "execution_count": 46,
     "metadata": {},
     "output_type": "execute_result"
    }
   ],
   "source": [
    "# show error is shrinking, even when multiplied by scaling factor\n",
    "[\n",
    "    (sp.factorial(sp.Integer(n)) * (sp.exp(sp.Integer(1)) - e_n(n))).n()\n",
    "    for n in range(10)\n",
    "]"
   ]
  },
  {
   "cell_type": "markdown",
   "id": "c85afaed",
   "metadata": {},
   "source": [
    "The proof of the irrationality of `e` could then be completed by the following steps.\n",
    "\n",
    "  * Assume, for the sake of contradiction, $e = a/b$ for positive integers $a, b$.\n",
    "  * Prove $n! (e - e_{n}) \\rightarrow 0$ as $n$ increases.\n",
    "  * Note as $b e$ is an integer and $n! e_{n}$ is always an integer. Therefore $n! (e - e_{n}) b$ is also always an integer.\n",
    "  * $n! (e - e_{n}) \\rightarrow 0$ implies $0 < n! (e - e_{n}) b < 1$ for large enough $n$, contradicting the integrality of $n! (e - e_{n}) b$."
   ]
  },
  {
   "cell_type": "markdown",
   "id": "9640a0f7",
   "metadata": {},
   "source": [
    "#### Back to `F`\n",
    "\n",
    "The earlier sort of proof will not work directly for `F`. It turns out the integers required to make $z_{n} F_{n}$ an integer seem to grow too fast to allow $z_{n} (F - F_{n})$ to be small. We are going to show even the smallest possible $z_{n} = denominator(F_{n})$ (denoted as `sp.fraction(F_n(n))[1]` in `sympy`) grows too fast."
   ]
  },
  {
   "cell_type": "code",
   "execution_count": 47,
   "id": "5f02989d",
   "metadata": {},
   "outputs": [
    {
     "data": {
      "text/plain": [
       "[0.0323500940503558,\n",
       " 0.0323500940503558,\n",
       " 0.552804514417078,\n",
       " 0.764022572085389,\n",
       " 2.16827086502467,\n",
       " 3.17789605517266,\n",
       " 38.3853475310505,\n",
       " 11.8936255558910,\n",
       " 188.362555589097,\n",
       " 11.2588189437063]"
      ]
     },
     "execution_count": 47,
     "metadata": {},
     "output_type": "execute_result"
    }
   ],
   "source": [
    "# show even observed denominator is growing faster than 1/error, ruining the proof strategy\n",
    "[(sp.fraction(F_n(n))[1] * (f_exact - F_n(n))).n() for n in range(10)]"
   ]
  },
  {
   "cell_type": "markdown",
   "id": "8ffa18a1",
   "metadata": {},
   "source": [
    "In my opinion, the authors likely wanted a proof of irrationality using this sort of method. However I don't think they had such. There are other ways to prove irrationality."
   ]
  },
  {
   "cell_type": "markdown",
   "id": "29d7d019",
   "metadata": {},
   "source": [
    "### Appendix: discrete Markov chain approximation\n",
    "\n",
    "Another idea to estimate the probability `F` would discretize the system and estimate the probabilities from a finite Markov chain. This is an alternative to a direct simulation that eliminates sampling variance.\n",
    "\n",
    "However, the method does not work well, as the smaller finite Markov chains end up not imitating the limiting probabilities very well.\n",
    "\n",
    "As an example let's use a 3 numeric state chain."
   ]
  },
  {
   "cell_type": "code",
   "execution_count": 48,
   "id": "161e88e8",
   "metadata": {},
   "outputs": [],
   "source": [
    "deletion_map, insertion_map, states_2, states_3 = make_discrete_matrices(3)"
   ]
  },
  {
   "cell_type": "markdown",
   "id": "71a46bac",
   "metadata": {},
   "source": [
    "In this simulation we are only allowing keys 0.0, 0.5, and 1.0. We enforce the tree insertion, deletion rules not allowing duplicate keys."
   ]
  },
  {
   "cell_type": "markdown",
   "id": "37159ac9",
   "metadata": {},
   "source": [
    "The 3 node to 2 node deletion pattern is encoded as follows."
   ]
  },
  {
   "cell_type": "code",
   "execution_count": 49,
   "id": "0f405000",
   "metadata": {},
   "outputs": [
    {
     "data": {
      "text/html": [
       "<div>\n",
       "<style scoped>\n",
       "    .dataframe tbody tr th:only-of-type {\n",
       "        vertical-align: middle;\n",
       "    }\n",
       "\n",
       "    .dataframe tbody tr th {\n",
       "        vertical-align: top;\n",
       "    }\n",
       "\n",
       "    .dataframe thead th {\n",
       "        text-align: right;\n",
       "    }\n",
       "</style>\n",
       "<table border=\"1\" class=\"dataframe\">\n",
       "  <thead>\n",
       "    <tr style=\"text-align: right;\">\n",
       "      <th></th>\n",
       "      <th>A(0.0,0.5,1.0)</th>\n",
       "      <th>B(0.0,0.5,1.0)</th>\n",
       "      <th>C(0.0,0.5,1.0)</th>\n",
       "      <th>D(0.0,0.5,1.0)</th>\n",
       "      <th>E(0.0,0.5,1.0)</th>\n",
       "    </tr>\n",
       "  </thead>\n",
       "  <tbody>\n",
       "    <tr>\n",
       "      <th>F(0.0,0.5)</th>\n",
       "      <td>0.333333</td>\n",
       "      <td>0.000000</td>\n",
       "      <td>0.333333</td>\n",
       "      <td>0.000000</td>\n",
       "      <td>0.000000</td>\n",
       "    </tr>\n",
       "    <tr>\n",
       "      <th>F(0.0,1.0)</th>\n",
       "      <td>0.333333</td>\n",
       "      <td>0.333333</td>\n",
       "      <td>0.333333</td>\n",
       "      <td>0.000000</td>\n",
       "      <td>0.000000</td>\n",
       "    </tr>\n",
       "    <tr>\n",
       "      <th>F(0.5,1.0)</th>\n",
       "      <td>0.333333</td>\n",
       "      <td>0.333333</td>\n",
       "      <td>0.000000</td>\n",
       "      <td>0.000000</td>\n",
       "      <td>0.000000</td>\n",
       "    </tr>\n",
       "    <tr>\n",
       "      <th>G(0.0,0.5)</th>\n",
       "      <td>0.000000</td>\n",
       "      <td>0.333333</td>\n",
       "      <td>0.000000</td>\n",
       "      <td>0.333333</td>\n",
       "      <td>0.333333</td>\n",
       "    </tr>\n",
       "    <tr>\n",
       "      <th>G(0.0,1.0)</th>\n",
       "      <td>0.000000</td>\n",
       "      <td>0.000000</td>\n",
       "      <td>0.000000</td>\n",
       "      <td>0.333333</td>\n",
       "      <td>0.333333</td>\n",
       "    </tr>\n",
       "    <tr>\n",
       "      <th>G(0.5,1.0)</th>\n",
       "      <td>0.000000</td>\n",
       "      <td>0.000000</td>\n",
       "      <td>0.333333</td>\n",
       "      <td>0.333333</td>\n",
       "      <td>0.333333</td>\n",
       "    </tr>\n",
       "  </tbody>\n",
       "</table>\n",
       "</div>"
      ],
      "text/plain": [
       "            A(0.0,0.5,1.0)  B(0.0,0.5,1.0)  C(0.0,0.5,1.0)  D(0.0,0.5,1.0)  \\\n",
       "F(0.0,0.5)        0.333333        0.000000        0.333333        0.000000   \n",
       "F(0.0,1.0)        0.333333        0.333333        0.333333        0.000000   \n",
       "F(0.5,1.0)        0.333333        0.333333        0.000000        0.000000   \n",
       "G(0.0,0.5)        0.000000        0.333333        0.000000        0.333333   \n",
       "G(0.0,1.0)        0.000000        0.000000        0.000000        0.333333   \n",
       "G(0.5,1.0)        0.000000        0.000000        0.333333        0.333333   \n",
       "\n",
       "            E(0.0,0.5,1.0)  \n",
       "F(0.0,0.5)        0.000000  \n",
       "F(0.0,1.0)        0.000000  \n",
       "F(0.5,1.0)        0.000000  \n",
       "G(0.0,0.5)        0.333333  \n",
       "G(0.0,1.0)        0.333333  \n",
       "G(0.5,1.0)        0.333333  "
      ]
     },
     "execution_count": 49,
     "metadata": {},
     "output_type": "execute_result"
    }
   ],
   "source": [
    "pd.DataFrame(deletion_map.toarray(), index=states_2, columns=states_3)"
   ]
  },
  {
   "cell_type": "markdown",
   "id": "218a6874",
   "metadata": {},
   "source": [
    "The above is a matrix that operates from the left on a right column vector. This is standard for linear algebra, instead of the \"operator on the left\" notation used in the Markov chain community.\n",
    "\n",
    "The 2 node to 3 node insertion pattern is encoded as follows. With only three numeric levels the key generation becomes deterministic. This effect goes away as we add more numeric states."
   ]
  },
  {
   "cell_type": "code",
   "execution_count": 50,
   "id": "e041bf21",
   "metadata": {},
   "outputs": [
    {
     "data": {
      "text/html": [
       "<div>\n",
       "<style scoped>\n",
       "    .dataframe tbody tr th:only-of-type {\n",
       "        vertical-align: middle;\n",
       "    }\n",
       "\n",
       "    .dataframe tbody tr th {\n",
       "        vertical-align: top;\n",
       "    }\n",
       "\n",
       "    .dataframe thead th {\n",
       "        text-align: right;\n",
       "    }\n",
       "</style>\n",
       "<table border=\"1\" class=\"dataframe\">\n",
       "  <thead>\n",
       "    <tr style=\"text-align: right;\">\n",
       "      <th></th>\n",
       "      <th>F(0.0,0.5)</th>\n",
       "      <th>F(0.0,1.0)</th>\n",
       "      <th>F(0.5,1.0)</th>\n",
       "      <th>G(0.0,0.5)</th>\n",
       "      <th>G(0.0,1.0)</th>\n",
       "      <th>G(0.5,1.0)</th>\n",
       "    </tr>\n",
       "  </thead>\n",
       "  <tbody>\n",
       "    <tr>\n",
       "      <th>A(0.0,0.5,1.0)</th>\n",
       "      <td>0.0</td>\n",
       "      <td>0.0</td>\n",
       "      <td>1.0</td>\n",
       "      <td>0.0</td>\n",
       "      <td>0.0</td>\n",
       "      <td>0.0</td>\n",
       "    </tr>\n",
       "    <tr>\n",
       "      <th>B(0.0,0.5,1.0)</th>\n",
       "      <td>0.0</td>\n",
       "      <td>1.0</td>\n",
       "      <td>0.0</td>\n",
       "      <td>0.0</td>\n",
       "      <td>0.0</td>\n",
       "      <td>0.0</td>\n",
       "    </tr>\n",
       "    <tr>\n",
       "      <th>C(0.0,0.5,1.0)</th>\n",
       "      <td>1.0</td>\n",
       "      <td>0.0</td>\n",
       "      <td>0.0</td>\n",
       "      <td>0.0</td>\n",
       "      <td>0.0</td>\n",
       "      <td>1.0</td>\n",
       "    </tr>\n",
       "    <tr>\n",
       "      <th>D(0.0,0.5,1.0)</th>\n",
       "      <td>0.0</td>\n",
       "      <td>0.0</td>\n",
       "      <td>0.0</td>\n",
       "      <td>0.0</td>\n",
       "      <td>1.0</td>\n",
       "      <td>0.0</td>\n",
       "    </tr>\n",
       "    <tr>\n",
       "      <th>E(0.0,0.5,1.0)</th>\n",
       "      <td>0.0</td>\n",
       "      <td>0.0</td>\n",
       "      <td>0.0</td>\n",
       "      <td>1.0</td>\n",
       "      <td>0.0</td>\n",
       "      <td>0.0</td>\n",
       "    </tr>\n",
       "  </tbody>\n",
       "</table>\n",
       "</div>"
      ],
      "text/plain": [
       "                F(0.0,0.5)  F(0.0,1.0)  F(0.5,1.0)  G(0.0,0.5)  G(0.0,1.0)  \\\n",
       "A(0.0,0.5,1.0)         0.0         0.0         1.0         0.0         0.0   \n",
       "B(0.0,0.5,1.0)         0.0         1.0         0.0         0.0         0.0   \n",
       "C(0.0,0.5,1.0)         1.0         0.0         0.0         0.0         0.0   \n",
       "D(0.0,0.5,1.0)         0.0         0.0         0.0         0.0         1.0   \n",
       "E(0.0,0.5,1.0)         0.0         0.0         0.0         1.0         0.0   \n",
       "\n",
       "                G(0.5,1.0)  \n",
       "A(0.0,0.5,1.0)         0.0  \n",
       "B(0.0,0.5,1.0)         0.0  \n",
       "C(0.0,0.5,1.0)         1.0  \n",
       "D(0.0,0.5,1.0)         0.0  \n",
       "E(0.0,0.5,1.0)         0.0  "
      ]
     },
     "execution_count": 50,
     "metadata": {},
     "output_type": "execute_result"
    }
   ],
   "source": [
    "pd.DataFrame(insertion_map.toarray(), index=states_3, columns=states_2)"
   ]
  },
  {
   "cell_type": "markdown",
   "id": "8b3b5d92",
   "metadata": {},
   "source": [
    "\n",
    "\n",
    "We can compose these operators to get the 2 node to 2 node transition probabilities."
   ]
  },
  {
   "cell_type": "code",
   "execution_count": 51,
   "id": "23c1fa99",
   "metadata": {},
   "outputs": [
    {
     "data": {
      "text/html": [
       "<div>\n",
       "<style scoped>\n",
       "    .dataframe tbody tr th:only-of-type {\n",
       "        vertical-align: middle;\n",
       "    }\n",
       "\n",
       "    .dataframe tbody tr th {\n",
       "        vertical-align: top;\n",
       "    }\n",
       "\n",
       "    .dataframe thead th {\n",
       "        text-align: right;\n",
       "    }\n",
       "</style>\n",
       "<table border=\"1\" class=\"dataframe\">\n",
       "  <thead>\n",
       "    <tr style=\"text-align: right;\">\n",
       "      <th></th>\n",
       "      <th>F(0.0,0.5)</th>\n",
       "      <th>F(0.0,1.0)</th>\n",
       "      <th>F(0.5,1.0)</th>\n",
       "      <th>G(0.0,0.5)</th>\n",
       "      <th>G(0.0,1.0)</th>\n",
       "      <th>G(0.5,1.0)</th>\n",
       "    </tr>\n",
       "  </thead>\n",
       "  <tbody>\n",
       "    <tr>\n",
       "      <th>F(0.0,0.5)</th>\n",
       "      <td>0.333333</td>\n",
       "      <td>0.000000</td>\n",
       "      <td>0.333333</td>\n",
       "      <td>0.000000</td>\n",
       "      <td>0.000000</td>\n",
       "      <td>0.333333</td>\n",
       "    </tr>\n",
       "    <tr>\n",
       "      <th>F(0.0,1.0)</th>\n",
       "      <td>0.333333</td>\n",
       "      <td>0.333333</td>\n",
       "      <td>0.333333</td>\n",
       "      <td>0.000000</td>\n",
       "      <td>0.000000</td>\n",
       "      <td>0.333333</td>\n",
       "    </tr>\n",
       "    <tr>\n",
       "      <th>F(0.5,1.0)</th>\n",
       "      <td>0.000000</td>\n",
       "      <td>0.333333</td>\n",
       "      <td>0.333333</td>\n",
       "      <td>0.000000</td>\n",
       "      <td>0.000000</td>\n",
       "      <td>0.000000</td>\n",
       "    </tr>\n",
       "    <tr>\n",
       "      <th>G(0.0,0.5)</th>\n",
       "      <td>0.000000</td>\n",
       "      <td>0.333333</td>\n",
       "      <td>0.000000</td>\n",
       "      <td>0.333333</td>\n",
       "      <td>0.333333</td>\n",
       "      <td>0.000000</td>\n",
       "    </tr>\n",
       "    <tr>\n",
       "      <th>G(0.0,1.0)</th>\n",
       "      <td>0.000000</td>\n",
       "      <td>0.000000</td>\n",
       "      <td>0.000000</td>\n",
       "      <td>0.333333</td>\n",
       "      <td>0.333333</td>\n",
       "      <td>0.000000</td>\n",
       "    </tr>\n",
       "    <tr>\n",
       "      <th>G(0.5,1.0)</th>\n",
       "      <td>0.333333</td>\n",
       "      <td>0.000000</td>\n",
       "      <td>0.000000</td>\n",
       "      <td>0.333333</td>\n",
       "      <td>0.333333</td>\n",
       "      <td>0.333333</td>\n",
       "    </tr>\n",
       "  </tbody>\n",
       "</table>\n",
       "</div>"
      ],
      "text/plain": [
       "            F(0.0,0.5)  F(0.0,1.0)  F(0.5,1.0)  G(0.0,0.5)  G(0.0,1.0)  \\\n",
       "F(0.0,0.5)    0.333333    0.000000    0.333333    0.000000    0.000000   \n",
       "F(0.0,1.0)    0.333333    0.333333    0.333333    0.000000    0.000000   \n",
       "F(0.5,1.0)    0.000000    0.333333    0.333333    0.000000    0.000000   \n",
       "G(0.0,0.5)    0.000000    0.333333    0.000000    0.333333    0.333333   \n",
       "G(0.0,1.0)    0.000000    0.000000    0.000000    0.333333    0.333333   \n",
       "G(0.5,1.0)    0.333333    0.000000    0.000000    0.333333    0.333333   \n",
       "\n",
       "            G(0.5,1.0)  \n",
       "F(0.0,0.5)    0.333333  \n",
       "F(0.0,1.0)    0.333333  \n",
       "F(0.5,1.0)    0.000000  \n",
       "G(0.0,0.5)    0.000000  \n",
       "G(0.0,1.0)    0.000000  \n",
       "G(0.5,1.0)    0.333333  "
      ]
     },
     "execution_count": 51,
     "metadata": {},
     "output_type": "execute_result"
    }
   ],
   "source": [
    "two_to_two_map = deletion_map @ insertion_map\n",
    "pd.DataFrame(two_to_two_map.toarray(), index=states_2, columns=states_2)"
   ]
  },
  {
   "cell_type": "markdown",
   "id": "343c081d",
   "metadata": {},
   "source": [
    "And then we can solve for the limiting distribution."
   ]
  },
  {
   "cell_type": "code",
   "execution_count": 52,
   "id": "c25d7008",
   "metadata": {},
   "outputs": [
    {
     "data": {
      "text/plain": [
       "0.54166666666667"
      ]
     },
     "execution_count": 52,
     "metadata": {},
     "output_type": "execute_result"
    }
   ],
   "source": [
    "solve_for_F(deletion_map=deletion_map, insertion_map=insertion_map, states_2=states_2)"
   ]
  },
  {
   "cell_type": "markdown",
   "id": "48a6b1fb",
   "metadata": {},
   "source": [
    "This is the exact limiting distribution of our finite Markov chain. However, it turns out this isn't a very good approximation of the original problem with real-number key values.\n",
    "\n",
    "We can up the number of numeric states and get better estimates."
   ]
  },
  {
   "cell_type": "code",
   "execution_count": 53,
   "id": "63a45bee",
   "metadata": {},
   "outputs": [
    {
     "data": {
      "text/plain": [
       "{5: 0.5275002143347081,\n",
       " 10: 0.520880327684369,\n",
       " 25: 0.51788206641448,\n",
       " 50: 0.5170027974558239,\n",
       " 75: 0.5167213791483427,\n",
       " 100: 0.5165827630782599}"
      ]
     },
     "execution_count": 53,
     "metadata": {},
     "output_type": "execute_result"
    }
   ],
   "source": [
    "solns = {}\n",
    "for k in (5, 10, 25, 50, 75, 100):\n",
    "    deletion_map, insertion_map, states_2, states_3 = make_discrete_matrices(k)\n",
    "    F_discrete = solve_for_F(\n",
    "        deletion_map=deletion_map, insertion_map=insertion_map, states_2=states_2\n",
    "    )\n",
    "    del deletion_map\n",
    "    del insertion_map\n",
    "    solns[k] = F_discrete\n",
    "\n",
    "solns"
   ]
  },
  {
   "cell_type": "markdown",
   "id": "cbff3c0f",
   "metadata": {},
   "source": [
    "The discrete solution strategy turns out to be very inefficient compared to the earlier analytical methods. It takes a lot of CPU and memory to even get even 2 to 3 digits of the probability `F` correct."
   ]
  },
  {
   "cell_type": "markdown",
   "id": "8af23051",
   "metadata": {},
   "source": [
    "## References\n",
    "\n",
    "[JonassenKnuth78] Jonassen, Arne T. and Donald E. Knuth, [\"A Trivial Algorithm Whose Analysis Isn't\"](https://doi.org/10.1016/0022-0000(78)90020-X), *Journal of Computer and System Sciences*, Volume 16, Issue 3, 1978, Pages 301-322. (Re-collected in [Donald E. Knuth, *Selected Papers on Analysis of Algorithms*, CSLI Lecture Notes, no. 102., ISBN 1-57586-212-3, 2000](https://www-cs-faculty.stanford.edu/~knuth/aa.html))."
   ]
  }
 ],
 "metadata": {
  "kernelspec": {
   "display_name": "prob_env",
   "language": "python",
   "name": "python3"
  },
  "language_info": {
   "codemirror_mode": {
    "name": "ipython",
    "version": 3
   },
   "file_extension": ".py",
   "mimetype": "text/x-python",
   "name": "python",
   "nbconvert_exporter": "python",
   "pygments_lexer": "ipython3",
   "version": "3.11.9"
  }
 },
 "nbformat": 4,
 "nbformat_minor": 5
}
